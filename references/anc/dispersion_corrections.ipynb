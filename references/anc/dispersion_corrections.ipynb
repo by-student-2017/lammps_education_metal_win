{
 "cells": [
  {
   "cell_type": "markdown",
   "id": "785db46e",
   "metadata": {},
   "source": [
    "# Choosing dispersion correction\n",
    "\n",
    "Since the ACE parametrization is fitted to PBE data, it does not consider long-range dispersion interactions that are important for many carbon structures. This notebook describes how it is possible to inlcude D2, D3 or D4 corrections by combining a lammps calculator with the desired dispersion correction.\n",
    "\n",
    "To use a lammps calculator, lammps is compiled with shared libraries, lammps python module: https://docs.lammps.org/Python_install.html and ML-PACE package: https://docs.lammps.org/Packages_details.html#pkg-ml-pace\n",
    "\n",
    "This can be done by following the steps:\n",
    "\n",
    "```\n",
    "mkdir build_lib\n",
    "cd build_lib\n",
    "cmake -D BUILD_SHARED_LIBS=ON -D BUILD_MPI=ON -D PKG_MPIIO=ON -D LAMMPS_EXCEPTIONS=yes -D PKG_MANYBODY=ON -D PKG_MISC=ON -D PKG_MISC=ON -D PKG_EXTRA-COMPUTE=ON -D PKG_EXTRA-DUMP=ON -D PKG_EXTRA-FIX=ON -D PKG_EXTRA-PAIR=ON -D PKG_ML-PACE=ON ../cmake\n",
    "make\n",
    "cp liblammps${SHLIB_EXT}* ../src \n",
    "cd ../src\n",
    "make install-python \n",
    "mkdir -p $CONDA_PREFIX/include/lammps\n",
    "cp library.h $CONDA_PREFIX/include/lammps\n",
    "cp liblammps${SHLIB_EXT}* $CONDA_PREFIX/lib/\n",
    "cd ..\n",
    "```\n",
    "\n",
    "If everyone is compiled properly, the python API of lammps can be tested:\n",
    "```\n",
    "from lammps import lammps\n",
    "lmp = lammps()\n",
    "```\n",
    "\n",
    "which should run witohut errors.\n",
    "\n",
    "Now, `ase.calculators.lammpslib/LAMMPSlib` can be used as an ASE calculator\n"
   ]
  },
  {
   "cell_type": "code",
   "execution_count": 1,
   "id": "105f69d5",
   "metadata": {},
   "outputs": [],
   "source": [
    "from ase.calculators.lammpslib import LAMMPSlib\n",
    "from ase import Atoms\n",
    "import numpy as np"
   ]
  },
  {
   "cell_type": "markdown",
   "id": "4ec44346",
   "metadata": {},
   "source": [
    "Define a graphite structure to make test calculations"
   ]
  },
  {
   "cell_type": "code",
   "execution_count": 2,
   "id": "33971019",
   "metadata": {},
   "outputs": [],
   "source": [
    "def get_graphite(a0,c=6.7):\n",
    "    return Atoms(\"C4\", scaled_positions=[(0.00,0.00,0.00),(0.00,0.00,0.5),(0.33,0.67,0.0),(0.67,0.33,0.5)], \n",
    "           cell=[[a0, 0.0, 0.0], [-0.5 * a0, a0 * np.sqrt(3)/2, 0.0], [0.0, 0.0, c]],pbc=True)\n",
    "a0 = 2.4768\n",
    "graphite = get_graphite(a0)"
   ]
  },
  {
   "cell_type": "markdown",
   "id": "bda97999",
   "metadata": {},
   "source": [
    "## 1. Base ACE calculator \n",
    "\n",
    "The base ACE calculator ($ACE_{PBE}$) can be defined simply in lammps as following:"
   ]
  },
  {
   "cell_type": "code",
   "execution_count": 3,
   "id": "7068c600",
   "metadata": {},
   "outputs": [],
   "source": [
    "model = \"potential_file/c_ace.yace\"\n",
    "\n",
    "cmds = [\n",
    "    \"pair_style pace\",\n",
    "    \"pair_coeff * * %s C\"%model\n",
    "]\n",
    "\n",
    "calc_pace = LAMMPSlib(lmpcmds=cmds)"
   ]
  },
  {
   "cell_type": "code",
   "execution_count": 4,
   "id": "69e13082",
   "metadata": {
    "scrolled": true
   },
   "outputs": [
    {
     "name": "stdout",
     "output_type": "stream",
     "text": [
      "The pace energy is -9.04 eV/atom\n",
      "CPU times: user 141 ms, sys: 23.4 ms, total: 164 ms\n",
      "Wall time: 189 ms\n"
     ]
    }
   ],
   "source": [
    "%%time\n",
    "\n",
    "graphite.calc = calc_pace\n",
    "\n",
    "pace_energy = graphite.get_potential_energy()/len(graphite)\n",
    "pace_energy\n",
    "\n",
    "print(\"The pace energy is %.2f eV/atom\"%(pace_energy))\n"
   ]
  },
  {
   "cell_type": "markdown",
   "id": "5a3e9214",
   "metadata": {},
   "source": [
    "## D2\n",
    "\n",
    "The D2 correction is provided in the `potential_file` directory as a lammps `pair_style table` format. It can be readily merged with $ACE_{PBE}$ using `hybrid/overlay` pair_style of lammps"
   ]
  },
  {
   "cell_type": "code",
   "execution_count": 5,
   "id": "b7a7eec3",
   "metadata": {},
   "outputs": [],
   "source": [
    "model = \"potential_file/c_ace.yace\"\n",
    "d2_table = \"potential_file/d2.table\"\n",
    "\n",
    "\n",
    "cmds = [\n",
    "    \"pair_style hybrid/overlay pace table linear 20000\",\n",
    "    \"pair_coeff * * pace %s C\"%model,\"pair_coeff * * table %s D2 9.0\"%d2_table\n",
    "]\n",
    "\n",
    "calc_d2 = LAMMPSlib(lmpcmds=cmds)"
   ]
  },
  {
   "cell_type": "code",
   "execution_count": 6,
   "id": "7238b584",
   "metadata": {},
   "outputs": [
    {
     "name": "stdout",
     "output_type": "stream",
     "text": [
      "The total pace+d2 energy is -9.16 eV/atom\n",
      "CPU times: user 183 ms, sys: 48.2 ms, total: 231 ms\n",
      "Wall time: 166 ms\n"
     ]
    }
   ],
   "source": [
    "%%time\n",
    "\n",
    "graphite.calc = calc_d2\n",
    "\n",
    "d2_energy = graphite.get_potential_energy()/len(graphite)\n",
    "\n",
    "print(\"The total pace+d2 energy is %.2f eV/atom\"%(d2_energy))"
   ]
  },
  {
   "cell_type": "markdown",
   "id": "c17ae538",
   "metadata": {},
   "source": [
    "## D3\n",
    "\n",
    "The D3 implementation can be downloaded and installed directly from Grimme et al. https://dftd3.readthedocs.io/en/latest/"
   ]
  },
  {
   "cell_type": "code",
   "execution_count": 7,
   "id": "89b48bd2",
   "metadata": {},
   "outputs": [],
   "source": [
    "from dftd3.ase import DFTD3\n",
    "\n",
    "d3 = DFTD3(method=\"PBE\", damping=\"d3zero\")"
   ]
  },
  {
   "cell_type": "code",
   "execution_count": 8,
   "id": "299b40d8",
   "metadata": {},
   "outputs": [
    {
     "name": "stdout",
     "output_type": "stream",
     "text": [
      "The total energy is -9.13 eV/atom where D3 contribution is -0.09 eV/atom\n",
      "CPU times: user 4.08 s, sys: 114 ms, total: 4.19 s\n",
      "Wall time: 4 s\n"
     ]
    }
   ],
   "source": [
    "%%time\n",
    "\n",
    "graphite.calc = d3\n",
    "d3_energy = graphite.get_potential_energy()/len(graphite)\n",
    "\n",
    "print(\"The total energy is %.2f eV/atom where D3 contribution is %.2f eV/atom\"%(pace_energy + d3_energy, d3_energy))\n"
   ]
  },
  {
   "cell_type": "markdown",
   "id": "78cc9322",
   "metadata": {},
   "source": [
    "## D4\n",
    "\n",
    "The D4 implementation can be downloaded and installed directly from Grimme et al. https://dftd4.readthedocs.io/en/latest/reference/ase.html\n"
   ]
  },
  {
   "cell_type": "code",
   "execution_count": 9,
   "id": "eac84abe",
   "metadata": {},
   "outputs": [],
   "source": [
    "from dftd4.ase import DFTD4\n",
    "\n",
    "d4 = DFTD3(method=\"PBE\", damping=\"d3zero\")"
   ]
  },
  {
   "cell_type": "code",
   "execution_count": 10,
   "id": "f682d49a",
   "metadata": {},
   "outputs": [
    {
     "name": "stdout",
     "output_type": "stream",
     "text": [
      "The total energy is -9.13 eV/atom where D4 contribution is -0.09 eV/atom\n",
      "CPU times: user 4 s, sys: 8.48 ms, total: 4.01 s\n",
      "Wall time: 4.03 s\n"
     ]
    }
   ],
   "source": [
    "%%time\n",
    "\n",
    "graphite.calc = d4\n",
    "d4_energy = graphite.get_potential_energy()/len(graphite)\n",
    "\n",
    "print(\"The total energy is %.2f eV/atom where D4 contribution is %.2f eV/atom\"%(pace_energy + d4_energy, d4_energy))\n"
   ]
  }
 ],
 "metadata": {
  "kernelspec": {
   "display_name": "Python 3 (ipykernel)",
   "language": "python",
   "name": "python3"
  },
  "language_info": {
   "codemirror_mode": {
    "name": "ipython",
    "version": 3
   },
   "file_extension": ".py",
   "mimetype": "text/x-python",
   "name": "python",
   "nbconvert_exporter": "python",
   "pygments_lexer": "ipython3",
   "version": "3.9.0"
  }
 },
 "nbformat": 4,
 "nbformat_minor": 5
}
